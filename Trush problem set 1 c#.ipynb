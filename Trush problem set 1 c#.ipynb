{
 "cells": [
  {
   "cell_type": "code",
   "execution_count": null,
   "id": "a5f0094f",
   "metadata": {},
   "outputs": [],
   "source": [
    "5 = int\n",
    "5.0 = double\n",
    "5 > 1 =boolean\n",
    "'5' = str\n",
    "5 * 2 =int\n",
    "'5' * 2 =str\n",
    "'5' + '2' =str\n",
    "5 / 2 =int\n",
    "5 % 2 =double\n",
    "{5, 2, 1} =set\n",
    "5 == 3 =bool\n",
    "Pi (the number) =long"
   ]
  },
  {
   "cell_type": "code",
   "execution_count": 8,
   "id": "0dc9f96b",
   "metadata": {},
   "outputs": [
    {
     "name": "stdout",
     "output_type": "stream",
     "text": [
      "the total no of count in Supercalifragilisticexpialidocious is 34\n",
      "It contains ice!\n",
      "Bababadalgharaghtakamminarronnkonn is longest\n",
      "The first composer in the list : Bartok\n",
      "The last composer in the last : Buxtehude\n"
     ]
    }
   ],
   "source": [
    "using System.Data.SqlTypes;\n",
    "\n",
    "String a = \"Supercalifragilisticexpialidocious\";\n",
    "String b = \"Honorificabilitudinitatibus\";\n",
    "String c = \"Bababadalgharaghtakamminarronnkonn\";\n",
    "\n",
    "\n",
    "int count = 0;\n",
    "foreach (char c in a)\n",
    "{\n",
    "    count++;\n",
    "}\n",
    "Console.WriteLine($\"the total no of count in Supercalifragilisticexpialidocious is\"+ \" \" +count);\n",
    "\n",
    "\n",
    "if (a.Contains(\"ice\") == true)\n",
    "{\n",
    "    Console.WriteLine(\"It contains ice!\");\n",
    "}\n",
    "else\n",
    "{\n",
    "    Console.WriteLine(\"It does not contain ice!\");\n",
    "}\n",
    "\n",
    "if (a.Length > b.Length & a.Length > c.Length)\n",
    "{\n",
    "    Console.WriteLine($\"Supercalifragilisticexpialidocious is longest\");\n",
    "}\n",
    "else if (b.Length > a.Length & b.Length > c.Length)\n",
    "{\n",
    "    Console.WriteLine($\"Honorificabilitudinitatibus is longest\");\n",
    "}\n",
    "else\n",
    "{\n",
    "    Console.WriteLine($\"Bababadalgharaghtakamminarronnkonn is longest\");\n",
    "}\n",
    "\n",
    "List<string> lst = new List<string>();\n",
    "lst.Add(\"Berlioz\");\n",
    "lst.Add(\"Borodin\");\n",
    "lst.Add(\"Brian\");\n",
    "lst.Add(\"Bartok\");\n",
    "lst.Add(\"Bellini\");\n",
    "lst.Add(\"Buxtehude\");\n",
    "lst.Add(\"Bernstein\");\n",
    "lst.Sort();\n",
    "Console.WriteLine(\"The first composer in the list : \" + lst[0]);\n",
    "lst.Reverse();\n",
    "Console.WriteLine(\"The last composer in the last : \" + lst[0]);"
   ]
  },
  {
   "cell_type": "code",
   "execution_count": 13,
   "id": "825ddaf9",
   "metadata": {},
   "outputs": [
    {
     "name": "stdout",
     "output_type": "stream",
     "text": [
      "Area = 1.7320508075688772\r\n"
     ]
    }
   ],
   "source": [
    " double s, area;\n",
    "double x, y, z;\n",
    "\n",
    "x = 2;\n",
    "y = 2;\n",
    "z = 2;\n",
    "\n",
    "s = (x + y + z) / 2;\n",
    "area = Math.Sqrt(s * (s - x) * (s - y) * (s - z));\n",
    "\n",
    "Console.WriteLine(\"Area = {0}\", area);\n",
    "           \n",
    "        \n",
    "    \n"
   ]
  },
  {
   "cell_type": "code",
   "execution_count": 81,
   "id": "d22e603f",
   "metadata": {},
   "outputs": [],
   "source": [
    "public static bool inside(int a,int b,int a1,int b1,int a2,int b2)\n",
    "        {\n",
    "            if (a > a1 && a < a2 && b > b1 && b < b2)\n",
    "            {\n",
    "                return true;\n",
    "            }\n",
    "            else\n",
    "                return false;\n",
    "        }"
   ]
  },
  {
   "cell_type": "code",
   "execution_count": 82,
   "id": "ca2c35c5",
   "metadata": {},
   "outputs": [
    {
     "data": {
      "text/plain": [
       "True"
      ]
     },
     "execution_count": 82,
     "metadata": {},
     "output_type": "execute_result"
    }
   ],
   "source": [
    "inside(1,1,0,0,2,3)"
   ]
  },
  {
   "cell_type": "code",
   "execution_count": 83,
   "id": "e6b73563",
   "metadata": {},
   "outputs": [
    {
     "data": {
      "text/plain": [
       "False"
      ]
     },
     "execution_count": 83,
     "metadata": {},
     "output_type": "execute_result"
    }
   ],
   "source": [
    "inside(-1,-1,0,0,2,2)"
   ]
  },
  {
   "cell_type": "code",
   "execution_count": 86,
   "id": "638c62d8",
   "metadata": {},
   "outputs": [],
   "source": [
    "public static void inside(int a, int b, double a1, double b1, double a2, double b2,double a3,double b3,double a4,double b4)\n",
    "        {\n",
    "            if (a > a1 && a < a2 && b > b1 && b < b2)\n",
    "            {\n",
    "                if(a > a3 && a < a4 && b > b3 && b < b4)\n",
    "                {\n",
    "                    Console.WriteLine(\"True\");\n",
    "                }\n",
    "            }\n",
    "            else\n",
    "                Console.WriteLine(\"False\");\n",
    "        }"
   ]
  },
  {
   "cell_type": "code",
   "execution_count": 90,
   "id": "ac4a71b8",
   "metadata": {},
   "outputs": [
    {
     "name": "stdout",
     "output_type": "stream",
     "text": [
      "False\r\n"
     ]
    }
   ],
   "source": [
    "inside(1,1,0.3,0.5,1.1,0.7,0.5,0.2,1.1,2)"
   ]
  },
  {
   "cell_type": "code",
   "execution_count": null,
   "id": "9dcf178e",
   "metadata": {},
   "outputs": [],
   "source": []
  }
 ],
 "metadata": {
  "kernelspec": {
   "display_name": ".NET (C#)",
   "language": "C#",
   "name": ".net-csharp"
  },
  "language_info": {
   "file_extension": ".cs",
   "mimetype": "text/x-csharp",
   "name": "C#",
   "pygments_lexer": "csharp",
   "version": "8.0"
  }
 },
 "nbformat": 4,
 "nbformat_minor": 5
}
